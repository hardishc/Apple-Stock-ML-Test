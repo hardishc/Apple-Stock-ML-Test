{
 "cells": [
  {
   "cell_type": "code",
   "execution_count": 128,
   "id": "5b079efa",
   "metadata": {},
   "outputs": [
    {
     "data": {
      "text/plain": [
       "array([[156.110001, 153.949997, 154.070007]])"
      ]
     },
     "execution_count": 128,
     "metadata": {},
     "output_type": "execute_result"
    }
   ],
   "source": [
    "import pandas as pd\n",
    "from sklearn.tree import DecisionTreeRegressor\n",
    "from sklearn.model_selection import train_test_split\n",
    "import joblib\n",
    "\n",
    "## train model\n",
    "# apple_data = pd.read_csv('AAPL.csv')\n",
    "# apple_data['Date'] = pd.to_datetime(apple_data['Date'])\n",
    "\n",
    "# for date in apple_data['Date']:\n",
    "#     apple_data['Date'] = date.timestamp()\n",
    "\n",
    "# X = apple_data.drop(columns=['High', 'Low', 'Close'])\n",
    "# y = apple_data[['High', 'Low', 'Close']]\n",
    "    \n",
    "# X_train, X_test, y_train, y_test = train_test_split(X, y, test_size=0.2)\n",
    "\n",
    "# model = DecisionTreeRegressor()\n",
    "# model.fit(X_train.values, y_train)\n",
    "\n",
    "## export model\n",
    "joblib.dump(model, 'apple-day-predictor.joblib')\n"
   ]
  },
  {
   "cell_type": "code",
   "execution_count": 129,
   "id": "659ac305",
   "metadata": {},
   "outputs": [
    {
     "data": {
      "text/plain": [
       "array([[156.110001, 153.949997, 154.070007]])"
      ]
     },
     "execution_count": 129,
     "metadata": {},
     "output_type": "execute_result"
    }
   ],
   "source": [
    "## load model\n",
    "modelLoad = joblib.load('apple-day-predictor.joblib')\n",
    "\n",
    "# prediction date\n",
    "dt = pd.to_datetime('2022-09-09')\n",
    "\n",
    "# enter date, open cost and volume\n",
    "predictions = modelLoad.predict([[dt.timestamp(), 155.47, 53117848]])\n",
    "\n",
    "# predicts high, low, close costs\n",
    "predictions\n"
   ]
  },
  {
   "cell_type": "code",
   "execution_count": null,
   "id": "f8f94e33",
   "metadata": {},
   "outputs": [],
   "source": []
  }
 ],
 "metadata": {
  "kernelspec": {
   "display_name": "Python 3 (ipykernel)",
   "language": "python",
   "name": "python3"
  },
  "language_info": {
   "codemirror_mode": {
    "name": "ipython",
    "version": 3
   },
   "file_extension": ".py",
   "mimetype": "text/x-python",
   "name": "python",
   "nbconvert_exporter": "python",
   "pygments_lexer": "ipython3",
   "version": "3.9.12"
  }
 },
 "nbformat": 4,
 "nbformat_minor": 5
}
