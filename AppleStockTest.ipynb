{
 "cells": [
  {
   "cell_type": "code",
   "execution_count": 37,
   "id": "5ca38bc5",
   "metadata": {},
   "outputs": [
    {
     "data": {
      "text/plain": [
       "0       02/28/2020\n",
       "1       02/27/2020\n",
       "2       02/26/2020\n",
       "3       02/25/2020\n",
       "4       02/24/2020\n",
       "           ...    \n",
       "2513    03/05/2010\n",
       "2514    03/04/2010\n",
       "2515    03/03/2010\n",
       "2516    03/02/2010\n",
       "2517    03/01/2010\n",
       "Name: Date, Length: 2518, dtype: object"
      ]
     },
     "execution_count": 37,
     "metadata": {},
     "output_type": "execute_result"
    }
   ],
   "source": [
    "import pandas as pd\n",
    "from sklearn.tree import DecisionTreeClassifier\n",
    "from sklearn.model_selection import train_test_split\n",
    "from sklearn.metrics import accuracy_score\n",
    "\n",
    "apple_data = pd.read_csv('HistoricalQuotes.csv')\n",
    "apple_data\n",
    "# X = apple_data.drop(columns=['High'])\n",
    "y = apple_data['Date']\n",
    "y\n",
    "# X\n",
    "\n",
    "# music_data = pd.read_csv('music.csv')\n",
    "# X = music_data.drop(columns=['genre'])\n",
    "# y = music_data['genre']\n",
    "# X_train, X_test, y_train, y_test = train_test_split(X, y, test_size=0.2)\n",
    "\n",
    "# model = DecisionTreeClassifier()\n",
    "# model.fit(X_train, y_train)\n",
    "# predictions = model.predict(X_test)\n",
    "# score = accuracy_score(y_test, predictions)\n",
    "# score"
   ]
  },
  {
   "cell_type": "code",
   "execution_count": null,
   "id": "cbb918e2",
   "metadata": {},
   "outputs": [],
   "source": []
  }
 ],
 "metadata": {
  "kernelspec": {
   "display_name": "Python 3 (ipykernel)",
   "language": "python",
   "name": "python3"
  },
  "language_info": {
   "codemirror_mode": {
    "name": "ipython",
    "version": 3
   },
   "file_extension": ".py",
   "mimetype": "text/x-python",
   "name": "python",
   "nbconvert_exporter": "python",
   "pygments_lexer": "ipython3",
   "version": "3.9.12"
  }
 },
 "nbformat": 4,
 "nbformat_minor": 5
}
